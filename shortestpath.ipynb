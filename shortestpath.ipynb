{
 "cells": [
  {
   "cell_type": "code",
   "execution_count": 2,
   "metadata": {},
   "outputs": [],
   "source": [
    "import networkx as nx\n",
    "import pandas as pd"
   ]
  },
  {
   "cell_type": "code",
   "execution_count": 3,
   "metadata": {},
   "outputs": [],
   "source": [
    "# Specify the path to your CSV file\n",
    "csv_file_path = 'data/ingredients.csv'\n",
    "\n",
    "# Read the edge list from the CSV file with edge attributes (weights)\n",
    "df = pd.read_csv(csv_file_path)\n",
    "G = nx.from_pandas_edgelist(df, source='source', target='target', edge_attr='weight')"
   ]
  },
  {
   "cell_type": "code",
   "execution_count": 4,
   "metadata": {},
   "outputs": [],
   "source": [
    "def distance(node1, node2,G):\n",
    "    shortest_path = nx.shortest_path(G, source=node1, target=node2)\n",
    "\n",
    "    # Calculate the distance (number of edges in the path)\n",
    "    distance = len(shortest_path) - 1  # Subtract 1 to get the edge count\n",
    "    return distance"
   ]
  },
  {
   "cell_type": "code",
   "execution_count": 5,
   "metadata": {},
   "outputs": [],
   "source": [
    "def filter_graph(G,weight_threshold):\n",
    "    # Create a subgraph based on the weight condition\n",
    "    filtered_graph = G.copy()  # Create a copy to preserve the original graph\n",
    "\n",
    "    # Iterate over the edges and remove those with weights below the threshold\n",
    "    for u, v, d in G.edges(data=True):\n",
    "        if d['weight'] < weight_threshold:\n",
    "            filtered_graph.remove_edge(u, v)\n",
    "\n",
    "    # If you want to remove isolated nodes after filtering\n",
    "    filtered_graph.remove_nodes_from(list(nx.isolates(filtered_graph)))\n",
    "    return filtered_graph"
   ]
  },
  {
   "cell_type": "code",
   "execution_count": null,
   "metadata": {},
   "outputs": [],
   "source": [
    "#testingggg\n",
    "G25 = filter_graph(G,25)\n",
    "G10 = filter_graph(G,10)\n",
    "print(len(G25.nodes))\n",
    "\n",
    "print(distance('rose_wine','nira',G))\n",
    "print(distance('rose_wine','nira',G10))"
   ]
  },
  {
   "cell_type": "code",
   "execution_count": null,
   "metadata": {},
   "outputs": [],
   "source": []
  }
 ],
 "metadata": {
  "kernelspec": {
   "display_name": "Python 3",
   "language": "python",
   "name": "python3"
  },
  "language_info": {
   "codemirror_mode": {
    "name": "ipython",
    "version": 3
   },
   "file_extension": ".py",
   "mimetype": "text/x-python",
   "name": "python",
   "nbconvert_exporter": "python",
   "pygments_lexer": "ipython3",
   "version": "3.11.5"
  }
 },
 "nbformat": 4,
 "nbformat_minor": 2
}
