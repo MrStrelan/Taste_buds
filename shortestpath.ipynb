{
 "cells": [
  {
   "cell_type": "code",
   "execution_count": 1,
   "metadata": {},
   "outputs": [],
   "source": [
    "import networkx as nx"
   ]
  },
  {
   "cell_type": "code",
   "execution_count": 16,
   "metadata": {},
   "outputs": [],
   "source": [
    "import pandas as pd\n",
    "\n",
    "# Specify the path to your CSV file\n",
    "csv_file_path = 'food.csv'\n",
    "\n",
    "# Read the edge list from the CSV file with edge attributes (weights)\n",
    "df = pd.read_csv(csv_file_path)\n",
    "G = nx.from_pandas_edgelist(df, source='source', target='target', edge_attr='weight')"
   ]
  },
  {
   "cell_type": "code",
   "execution_count": 17,
   "metadata": {},
   "outputs": [
    {
     "data": {
      "text/plain": [
       "NodeView(('black_sesame_seed', 'rose_wine', 'fennel', 'wild_berry', 'comte_cheese', 'grape', 'nira', 'raw_beef', 'corn_mint_oil', 'parsnip_fruit', 'soybean', 'vegetable_oil', 'bell_pepper', 'naranjilla', 'chervil', 'crayfish', 'corn_mint', 'cream_cheese', 'european_cranberry', 'thai_pepper', 'concord_grape', 'wild_strawberry', 'black_pepper', 'gruyere_cheese', 'prune', 'prunus', 'orange', 'satsuma_mandarin_peel', 'morus_bombycis_oil', 'wheaten_bread', 'corn_salad', 'kola_tea', 'citronella_grass', 'cooked_apple', 'anise', 'ledum_palustre_oil', 'beef_broth', 'wine', 'litchi', 'wild_marjoram', 'muscat_grape', 'vervain', 'lemongrass', 'mountain_papaya', 'azalea', 'carrot', 'kaffir_lime', 'kohlrabi', 'dried_fig', 'lily_oil', 'fatty_fish', 'katsuobushi', 'wheat_bread', 'smoked_fish', 'origanum_floribundum', 'capsicum_annuum', 'coriander_oil', 'fried_beef', 'long_pepper', 'apple_juice', 'fish_oil', 'raw_potato', 'guineafowl', 'imperatoria', 'swiss_cheese', 'banana', 'loquat', 'raw_lamb', 'roasted_meat', 'algerian_geranium_oil', 'starfruit', 'egg', 'huckleberry', 'grilled_pork', 'onion', 'peppermint_oil', 'apple', 'persea_pubescens', 'ewe', 'sauerkraut', 'acacia_farnesiana', 'vanilla', 'red_meat', 'sauvignon_grape', 'cognac', 'tuna', 'orthodon_citraliferum', 'sassafras', 'cheese', 'cowberry', 'finnish_whiskey', 'sauvignon_blanc_grape', 'lemon_balm', 'roasted_pork', 'crownberry', 'cream', 'popcorn', 'chinese_quince_peel', 'red_wine', 'honey', 'narcissus_oil', 'pork_sausage', 'sherry', 'bourbon_whiskey', 'smoked_salmon', 'fried_cured_pork', 'sweetfish', 'corn_tortilla', 'raw_fatty_fish', 'artemisia', 'coriander', 'horseradish_oil', 'red_bean', 'endive', 'raisin', 'italian_lime', 'tsuga_canadensis', 'boiled_beef', 'peppermint', 'peanut', 'quince', 'crisp_bread', 'sweet_grass_oil', 'olive', 'goat_milk', 'roasted_chicken', 'palmarosa', 'hevea_brasiliensis_flower', 'mozzarella_cheese', 'brazil_rosewood', 'smoked_pork', 'black_currant', 'tobacco_oil', 'dairy', 'brandy', 'plum', 'navy_bean', 'berry', 'lemon_flower', 'pineapple', 'cinnamon', 'watercress', 'enokidake', 'oxidized_lard', 'gin', 'pork', 'rhus_cotinus_leaf', 'artemisia_arborescens', 'eremocitrus_glauca', 'green_tea', 'rose', 'cod', 'red_currant', 'wintergreen_oil', 'mutton', 'cucumber', 'loganberry', 'angelica_root_oil', 'uncured_smoked_pork', 'jonquil', 'muscadine_grape', 'black_raspberry', 'capsicum', 'myrtleberry', 'artemisia_camphorata', 'lemon', 'dwarf_quince', 'boiled_chicken', 'lamb', 'cypress', 'lovage_root', 'baked_potato', 'lean_fish', 'mustard', 'rum', 'carpinus_betulus', 'cloudberry', 'roasted_beef', 'israeli_orange', 'lime', 'roasted_pecan', 'walnut', 'shiitake', 'violet', 'vegetable', 'ashanti_pepper', 'boiled_meat', 'japanese_peppermint', 'mint', 'brussels_sprout', 'roquefort_cheese', 'bartlett_pear', 'turkey', 'cassia', 'star_anise', 'carob_fruit', 'cheddar_cheese', 'andropogon_jwarancusa', 'coconut', 'bitter_orange', 'butter', 'artemisae_oil', 'citrus_juice', 'custard_apple', 'acacia', 'tarragon', 'narcissus', 'black_currant_juice', 'feijoa', 'brazil_nut', 'southern_pea', 'horse_mackerel', 'cayenne', 'parsley', 'melilotus_albus_leaf', 'botrytized_wine', 'raw_chicken', 'parsnip', 'orange_tree', 'pouching_tea', 'feta_cheese', 'ethiopian_pepper', 'lemon_peel_oil', 'eucalyptus_oil', 'sheep_cheese', 'roasted_green_tea', 'raw_radish', 'uncured_pork', 'bulgarian_peppermint', 'hop', 'elettaria_caradmomum_oil', 'ginger', 'okra', 'sturgeon_caviar', 'apple_brandy', 'celery', 'mushroom', 'blueberry', 'cinnamomum_camphora', 'dried_black_tea', 'black_tea', 'lettuce', 'emmental_cheese', 'ruta_chalepensis_oil', 'american_pennyroyal', 'strawberry_jam', 'gardenia', 'plumcot', 'filbert', 'mate', 'carnation', 'white_wine', 'raw_peanut', 'baeckea_citriodora', 'barosma_pulchella_leaf_oil', 'sparkling_wine', 'mangosteen', 'raw_bean', 'camphor', 'veal', 'scotch_spearmint_oil', 'spanish_sage', 'cocoa', 'unprocessed_rice', 'pepper', 'beef_liver', 'thyme', 'cistus_ladaniferus', 'bread', 'bitter_orange_oil', 'marjoram', 'pike', 'myrocarpus_fastigiatus', 'avocado', 'pumpkin', 'cranberry', 'trassi', 'chamomile_oil', 'citrus_peel', 'raspberry', 'clary_sage', 'green_bell_pepper', 'thymus_zygis', 'mentha_timija', 'potato_chip', 'roasted_shrimp', 'tomato', 'black_chokeberry', 'vinegar', 'buckwheat', 'kola_nut', 'marjoram_oil', 'blue_cheese', 'goat_cheese', 'mandarin_peel_oil', 'nutmeg', 'citrus_peel_oil', 'palmarosa_oil', 'garcia_mangostana', 'lobster', 'luvunga_scadens_oil', 'tabasco_pepper', 'beet_root', 'cherimoya', 'corn', 'french_bean', 'cupressaceae', 'french_peppermint', 'roasted_almond', 'snap_bean', 'shallot', 'apricot', 'vitis_labrusca_juice', 'petitgrain_lime_oil', 'caraway', 'prickly_pear', 'peru_balsam', 'roasted_cocoa', 'labdanum', 'rose_apple', 'beer', 'petitgrain_bigarade', 'bergamot', 'chickpea', 'roasted_filbert', 'turmeric', 'java_citronella', 'parmesan_cheese', 'oatmeal', 'guinea_pepper', 'sweet_basil', 'roasted_mate', 'caucas', 'rye_bread', 'passion_fruit_juice', 'malt', 'smoked_fatty_fish', 'bog_blueberry', 'citronella', 'peanut_butter', 'sperm_whale_oil', 'tea', 'choke_cherry', 'tangerine', 'cabernet_sauvignon_wine', 'reunion_geranium', 'almond', 'potato', 'jackfruit', 'scotch_spearmint', 'crab', 'monkey_orange', 'violet_flower', 'lavandin_oil', 'rooibus_tea', 'eucalyptus', 'french_fried_potato', 'thymus_caespeititius', 'chinese_quince', 'grilled_beef', 'luraceae_oil', 'geranium', 'pelargonium_tomentosum', 'tea_leaf_oil', 'eucalyptus_goniocalyx', 'fermented_shrimp', 'sesame_oil', 'spanish_anise', 'raw_fish', 'pea', 'roasted_sesame_seed', 'tobacco_flower', 'black_seabream', 'cypress_oil', 'leaf', 'pear', 'pinanona', 'sesame_seed', 'fried_pork', 'licorice', 'french_lavender', 'hop_oil', 'pilchard', 'asparagus', 'dill', 'whiskey', 'corn_oil', 'elderberry', 'melon', 'mandarin_peel', 'smoked_pork_belly', 'citrus', 'lavender', 'ambrette_seed', 'camembert_cheese', 'wood', 'thuja_occidentalis_oil', 'roasted_turkey', 'violet_root', 'herring', 'water_apple', 'celery_seed', 'auto_oxidized_salmon_oil', 'truffle', 'lippia_carviodora', 'catfish', 'ham', 'kumquat_peel_oil', 'mantis_shrimp', 'soy_sauce', 'peanut_oil', 'monarda_fisulosa', 'grape_vine', 'matsutake', 'tahiti_vanilla', 'siberian_pine_needle_oil', 'cabernet_sauvignon_grape', 'bergamot_oil', 'guava', 'provolone_cheese', 'cured_ham', 'dried_parsley', 'vetiver_oil', 'mung_bean', 'malagueta_pepper', 'tuberose', 'coffee', 'fried_chicken', 'chicken_broth', 'bean', 'cardamom', 'chamomile', 'white_bread', 'ximenia_aegyptiaca', 'munster_cheese', 'palm', 'calabash_nutmeg', 'california_orange_peel', 'eel', 'sapodilla_fruit', 'dried_green_tea', 'limburger_cheese', 'neroli_oil', 'pinus_jeffreyi_leaf_oil', 'hyacinth', 'roasted_barley', 'domiati_cheese', 'grapefruit', 'milk', 'buchu_oil', 'sea_bass', 'raw_leek', 'strawberry', 'blenheim_apricot', 'rabbiteye_blueberry', 'trifolium_pratense_leaf_oil', 'currant', 'angelica_root', 'shrimp', 'florida_orange_juice', 'rose_oil', 'callitris', 'mexican_lime', 'robinia_pseudoacacia_oil', 'fumaria_officinalis', 'raw_lean_fish', 'bacon', 'globefish', 'smoked_summer_sausage', 'black_chokecherry', 'caraway_seed', 'roasted_peanut', 'smoked_herring', 'wild_bergamot', 'spearmint', 'cured_pork', 'french_marigold_oil', 'lime_juice', 'raw_pea', 'roasted_chicory_root', 'boronia_dentigeroides_oil', 'daffodil', 'wort', 'rice_bran', 'pork_liver', 'cabbage', 'petitgrain_lemon_oil', 'mango', 'sherry_wine', 'cocoa_liquor', 'pecan', 'pinus_excelsa', 'blackberry_juice', 'holy_basil', 'cilantro', 'anise_hyssop', 'japanese_mint', 'hoary_basil', 'toasted_sesame_seed', 'wild_raspberry', 'mussel', 'whale', 'cantaloupe', 'ceylon_tea', 'squid', 'brown_rice', 'lingonberry', 'chive', 'magnolia_oil', 'cherry', 'russian_peppermint_oil', 'mace', 'violet_leaf_oil', 'mackerel', 'cajeput', 'california_pepper', 'cauliflower', 'andropogon_intermedius', 'mexican_goosefoot', 'picea_balsamea_oil', 'cashew', 'papaya', 'pinus_sabiniana', 'seal', 'scallop', 'beef', 'butterfat', 'mentha_aquatica', 'curcuma', 'eucalyptus_polibrac_tea_oil', 'grape_brandy', 'smoked_sausage', 'pandanus_odoratissimus_oil', 'seychelles_tea', 'chayote', 'frankfurter', 'pinto_bean', 'blackberry', 'cottage_cheese', 'babaco', 'hazelnut', 'tobacco', 'rice', 'boiled_pork', 'california_orange', 'arrack', 'oat', 'orange_juice', 'achillea_micrantha_oil', 'artemisia_maritime_oil', 'jamaican_rum', 'boronia_anemonifolia', 'uncured_boiled_pork', 'fig', 'yellow_passion_fruit_juice', 'orange_leaf', 'seed', 'watermelon', 'lavender_oil', 'mint_oil', 'calamus', 'port_wine', 'roasted_macadamia_nut', 'jasmine_tea', 'valerian', 'leaf_oil', 'kiwi', 'citrus_flower_oil', 'camphor_oil', 'fermented_russian_black_tea', 'chicken', 'raw_soybean_oil', 'porcini', 'lemon_juice', 'origanum', 'barley', 'ananas_sativus', 'pittosporum_glabratum', 'piper_officinarum', 'fruit_brandy', 'leek', 'artichoke', 'mashed_potato', 'gastrochilus_pandurata_oil', 'plum_brandy', 'roasted_lamb', 'pawpaw', 'sandalwood', 'mimusops_elengi_flower', 'ylangylang', 'keta_salmon', 'star_anise_oil', 'anise_brandy', 'weinbrand', 'roasted_malt', 'rue', 'toasted_oat', 'sea_algae', 'ceylon_citronella', 'artemisia_santolinifolia_oil', 'saffron', 'south_african_mentha_longifolia', 'coprosma_foetidissima_leaf', 'polysiphonia_fastigiata', 'abies_alba_pine_needle', 'artemisia_herba_alba', 'oyster', 'seseli_tortuosum', 'boiled_crab', 'brewed_tea', 'jasminum_grandiflorum_oil', 'salmon_oil', 'raw_cabbage', 'schizandra_nigra_oil', 'macadamia_nut', 'hinoki', 'elderberry_juice', 'dalbergia_sissoo', 'dolphin', 'rosemary', 'ceylon_cinnamon', 'petitgrain_lime', 'fenugreek', 'eucalyptus_microcorys_leaf_oil', 'buchu', 'tangerine_peel_oil', 'spearmint_oil', 'raw_turkey', 'bulgarian_rose', 'elderberry_fruit', 'cajeput_oil', 'myrrh_oil', 'atropa_belladonna_leaf', 'tea_oil', 'cod_liver_oil', 'passion_fruit', 'taiwan_citronella', 'brazilian_sassafras_oil', 'grapefruit_peel', 'mastic_gum_fruit_oil', 'chestnut_flower', 'russian_cheese', 'broccoli', 'dried_kidney_bean', 'abies_balsamea_oil', 'chinese_cabbage', 'salmon_caviar', 'summer_savory', 'michelia_champaca_oil', 'tobacco_leaf_oil', 'japanese_plum', 'roasted_coconut', 'nepeta_japonica', 'chicory_root', 'olive_oil', 'spanish_origanum', 'fermented_tea', 'cumin', 'pinus_densiflora', 'pear_brandy', 'salmon', 'nectandra_elaiophora', 'roman_chamomile', 'dwarf_pine', 'salmon_roe', 'tamarind', 'zanthoxylum_rhetsa', 'boiled_mutton', 'elsholtzia_argyi', 'orthodon', 'pinus_sabiniana_terpentine', 'rhubarb', 'texas_sage', 'java_citronella_oil', 'sheep_milk', 'sage', 'laurel', 'japanese_whiskey', 'asarum_europaeum_root_oil', 'dacrydium_franklinii_oil', 'daffodil_flower', 'cuttlefish', 'satureia_montana', 'wheat', 'kumquat', 'peated_malt', 'spike', 'clove', 'litsea_guatemalensis', 'chicken_liver', 'kelp', 'hogweed', 'sweet_potato', 'benzoin_resin', 'cognac_oil', 'cinnamon_leaf', 'japanese_seafood', 'japanese_star_anise', 'raspberry_juice', 'malt_whiskey', 'mammee', 'cananga', 'farnesol', 'nectarine', 'scotch', 'crepis_foetida_root', 'juniper_berry', 'bitter_orange_flower_oil', 'raw_pork', 'yeast', 'mastic_gum', 'white_currant_juice', 'dill_seed', 'clam', 'coconut_oil', 'east_indian_geranium', 'jasminum_odoratissimum_oil', 'pistachio', 'muskmelon', 'piri_piri', 'chicory', 'basil', 'peach', 'chestnut_honey', 'artemisia_scoparia', 'bilberry_wine', 'red_sage', 'clary_sage_oil', 'vitis', 'citrus_leaf_oil', 'lovage', 'fish', 'grapefruit_juice', 'lavandin', 'lemon_peel', 'bantu_beer', 'nut', 'mandarin', 'melaleuca_viridiflora', 'whitefish', 'juniperus_phoenicea_oil', 'laurel_leaf', 'wheat_flake', 'soursop', 'red_kidney_bean', 'black_bean', 'chinese_star_anise', 'cymbopogon_javanensis', 'magnolia_fuscata', 'myrrh', 'skim_milk', 'eucalyptus_cinereea', 'wood_apple', 'lentil', 'armagnac', 'fermented_tea_leaf_oil', 'kidney_bean', 'strawberry_wine', 'haddock', 'rosa_centifolia', 'champagne_wine', 'clove_oil', 'fruit_juice', 'angelica_seed', 'fruit', 'dill_blossom', 'geranium_oil', 'lima_bean', 'chokeberry', 'mutton_liver', 'cayenne_linaloe', 'litsea_zeylanica', 'melaleuca_bracteata_leaf', 'pine_turpentine', 'date', 'banana_passion_fruit', 'eucalyptus_hemilampra', 'flower', 'cymbopogon_sennaarensis', 'eucalyptus_dives', 'melaleuca_paucifiora_oil', 'lilac', 'guinea_orange_oil', 'eucalyptus_macarthuri_oil', 'ouzo', 'atropa_belladonna_root', 'litsea_cubeba_fruit', 'curcuma_aeruginosa', 'strawberry_oil', 'roasted_nut', 'wheat_bran', 'raw_asparagus', 'cape_gooseberry', 'turnip', 'origanum_oil', 'phellodendron_amurense_fruit', 'tilsit_cheese', 'pinaceae', 'egg_noodle', 'anise_seed_oil', 'grape_syrup', 'rubus_arcticus', 'american_peppermint', 'litsea_zeylanica_oil', 'lime_peel_oil', 'cloudberry_oil', 'cider', 'green_mate', 'satsuma', 'myrtle', 'liver', 'safflower_seed', 'yogurt', 'orris', 'sea_buckthorn', 'wintergreen_leaf', 'mastic_gum_oil', 'sour_cherry', 'rye_flour', 'krill', 'guarana', 'wild_rice', 'galbanum_oil', 'cruciferae_seed', 'barosma_venustum', 'plant', 'tolu_balsam', 'orthodon_linalooliferum', 'petitgrain', 'orange_oil', 'almond_flower', 'vitis_labrusca', 'buttermilk', 'eucalyptus_macarthurii', 'meat', 'garlic', 'phellodendron_japonicum', 'mentha_citrata', 'achillea_ageratum', 'hyacinth_oil', 'pimento', 'rutabaga', 'vachellia_farnesiana', 'tulip', 'irish_whiskey', 'romano_cheese', 'myrcia_acris', 'roman_chamomile_oil', 'mentha_crispa', 'scotch_whiskey', 'pickled_ham', 'winter_savory', 'roasted_onion', 'durian', 'pine_oil', 'field_mint_oil', 'lemongrass_oil', 'eucalyptus_amygdalina', 'mastic_gum_leaf_oil', 'litsea_cubeba', 'pandanus_odoratissimus', 'chenopodium', 'eriostemon_coxii_leaf_oil', 'sake', 'malay_apple', 'lantana_camara_oil', 'oxidized_skim_milk', 'cryptomeria_japonica', 'oak_musk', 'neroli', 'lemon_oil', 'finocchoi_fennel_oil', 'elder_flower', 'tuber', 'seed_oil', 'parsnip_root', 'jasmine', 'arnica_montana', 'finnish_pine_oil', 'saxifragaceae', 'melaleuca_oil', 'grapefruit_blossom', 'pimenta', 'lavender_vera_oil', 'vervain_leaf', 'bulgarian_clary_sage', 'ginger_grass', 'orange_leaf_oil', 'yellow_passion_fruit', 'petitgrain_bergamot', 'sour_milk', 'thymus_mastichina', 'radish', 'ligusticum_acutilobum_oil', 'violet_leaf', 'tangerine_juice', 'tobacco_leaf', 'black_tea_oil', 'eucalyptus_globulus', 'strawberry_juice', 'pepino_melon', 'bulgarian_rose_oil', 'thymus', 'raspberry_brandy', 'roasted_hazelnut', 'lovage_leaf', 'orris_oil', 'echinacea', 'mandarin_leaf_oil', 'cherry_juice', 'melaleuca_trichostachya_oil', 'pinus_sylvestris', 'hog_plum', 'teucrium_chamaedrys', 'jasminum_grandiflorum', 'liatris_odoratissima', 'melilotus_officinalis_flower', 'birch', 'crowberry', 'eucalyptus_citriodora_oil', 'wood_spirit', 'rapeseed', 'perovski_abrotanoides_oil', 'feces', 'coal_tar', 'picea_alba_oil', 'shellfish', 'filipendula_ulmaria_flower', 'whole_grain_wheat_flour', 'chrysocoris_stolli', 'bilberry', 'champaca', 'japanese_peppermint_oil', 'grapefruit_oil', 'muscat_grape_juice', 'radish_oil', 'acacia_flower_oil', 'orange_peel_oil', 'angelica_oil', 'paraguay_petitgrain', 'palm_oil', 'black_mustard_seed_oil', 'palm_fruit', 'malabar_cardamom_oil', 'salvia_triloba_oil', 'thea_chinensis_oil', 'corn_grit', 'artemisia_frigida', 'carob', 'italian_orange_oil', 'kale', 'corn_flake', 'papaver_somniferum', 'populus_balsamifera', 'ocimum_gratissimum', 'randia_formosa_flower', 'callitris_glauca', 'valerian_oil', 'andropogon_gragrans', 'oriental_storax', 'galanga', 'pinus_jeffreyi', 'artemisia_santolinifolia', 'lamb_liver', 'acacia_dealbata', 'thuja_occidentalis', 'valencia_orange_oil', 'milk_fat', 'melaleuca_smithii', 'animal', 'pennyroyal_oil', 'asperula_odorosa', 'pennyroyal', 'ceylon_tea_cinnamon_leaf', 'castoreum', 'tomato_juice', 'alpinia_malaccensis', 'onion_juice', 'sphaeranthus_indicus_oil', 'passion_fruit_wine', 'caja_fruit', 'rosa_borbonica', 'araucaria_cunninghamii', 'cassava', 'laurel_leaf_oil', 'oat_groat', 'annona_reticulata', 'grape_juice', 'callitris_drummondii', 'orchid', 'vetiver', 'helichrysum_angustifolium', 'prawn', 'lilium_candidum_flower', 'artemisia_brevifolia', 'monarda_punctata_oil', 'acacia_caven', 'macaroni', 'eucalyptus_maideni', 'lard', 'citrus_oil', 'welsh_onion', 'cinnamon_leaf_oil', 'mulberry_leaf', 'savory', 'fermented_radish', 'grapefruit_peel_oil', 'angelica', 'ruta_montana_oil', 'robinia_pseudoacacia', 'orange_peel', 'barosma_crenulata', 'chinese_star_anise_oil', 'bulgarian_clary_sage_oil', 'rue_oil', 'chamaecyparis_pisifera', 'bay_laurel', 'yam', 'ceylon_tea_citronella_oil', 'petitgrain_lemon', 'copaiba', 'basil_oil', 'pinus_jeffreyi_terpentine', 'mexican_linaloe', 'french_peppermint_oil', 'pomelo_peel', 'tsuga_canadensis_oil', 'blackberry_brandy', 'benzoin', 'chinese_cinnamon', 'purple_passion_fruit', 'cupressaceae_oil', 'soybean_oil', 'eucalyptus_globulus_oil', 'rye_ergot', 'cane_molasses', 'boldea_fragrans', 'ormenis_multicaulis', 'cassia_oil', 'rafanus_sativus_root', 'cascarilla', 'achasma_walang', 'vanilla_oil', 'german_chamomile_oil', 'fagroea_racemosa_flower', 'satsuma_mandarin_peel_oil', 'trifolium_incarnatum', 'rosa_bourboniana_oil', 'valencia_orange_juice', 'ceanothus_velutinus_leaf', 'furcraea_gigantean_flower_oil', 'petasites_fragrans', 'asarum_canadense_root_oil', 'kaschmis_citronella_oil', 'israeli_orange_oil', 'ambrette_seed_oil', 'maize', 'tea_tree_oil', 'boronia_ledifolia_leaf', 'burley_tobacco', 'umbelliferae', 'plum_wine', 'caviar', 'artemisia_transiliensis', 'iberis_sempervirens_seed', 'pinus_sylvestris_oil', 'coffee_flower', 'citrus_limetta_oil', 'jaborandi_leaf_oil', 'winter_melon', 'artemisia_cina', 'american_cranberry', 'sapodilla', 'monarda_punctata', 'ocotea_usambarensis_oil', 'beef_tallow', 'solidago_odora', 'maple_syrup', 'cayenne_bois_de_rose', 'spike_oil', 'eucalyptus_bakeries_oil', 'american_peppermint_oil', 'demon_red', 'wood_oil', 'purple_passion_fruit_juice', 'helichrysum_italicum', 'agastache_formosana', 'cayenne_rosewood', 'abies_alba', 'picea_orientalis', 'castoreum_oil', 'calytrix_tetragona', 'jammus_citronella_oil', 'lavender_delphinensis', 'eucalyptus_dives_oil', 'honey_fungus', 'niaouli_oil', 'phebalium_nudum_root_oil', 'hyssop', 'temple_orange_juice', 'nigra_oil', 'guava_peel', 'myrocarpus_frondosus', 'udo', 'zingiberaceae', 'cardamom_oil', 'cinnamomum_oil', 'tangerine_oil', 'agastache_rugosa', 'several_oil', 'monarda_citriodora_oil', 'abies_sibirica', 'berry_bud', 'melissa_oil', 'brassica', 'black_currant_bud', 'caprifoliaceae', 'bitter_orange_peel_oil', 'bitter_fennel', 'callitris_intratropica', 'monodora_grandiflora', 'ananas_sativus_oil', 'lime_oil', 'eryngium_poterium_oil', 'seaweed', 'verbenaceae', 'oxidized_milk', 'american_potato_chip', 'fennel_oil', 'magnolia_tripetala', 'houttuynia_cordata_oil', 'litsea_odorifera', 'russian_champagne', 'orange_flower', 'boldo_leaf', 'cistus_labdanum', 'cocoa_leaf', 'neroli_bigarade', 'violet_flower_oil', 'rutaceae', 'temoe_lawak', 'satureia_thymera', 'congo_geranium', 'mentha', 'tonka_bean_seed', 'ruta_pinnata_leaf_oil', 'cacao', 'polyalthia_canangioides_flower', 'grape_must', 'sunflower_oil', 'beet', 'american_storax', 'balm', 'pinus_communis_oil', 'bitter_orange_leaf', 'cinnamomum', 'feronia_elephantum', 'chamaecyparis_pisifera_oil', 'while_thyme_oil', 'picea_rubens', 'matricaria_parthenium_oil', 'ylangylang_oil', 'prunus_laurocerasus', 'mentha_silvestris_oil', 'horseradish', 'sumatra_benzoin', 'key_lime_leaf', 'east_african_geranium', 'octopus', 'japanese_calamus', 'salvia_grandifiora_oil', 'rum_brandy', 'abies_concolor', 'litsea_cubeba_oil', 'nezara_viridula', 'thymbra_spicata_oil', 'callitris_gracilis', 'rosaceae', 'russian_anise', 'ceylon_tea_oil', 'patchouli_oil', 'cicuta_virosa_oil', 'petrosimonia_monandra', 'melaleuca_bracteata', 'sudachi', 'blumea_malcomii_oil', 'mustard_greens_oil', 'nettle', 'eucalyptus_citriodora', 'pelargonium_capitaux', 'cabbage_juice', 'spermaceti_oil', 'cupressus_lusitanica', 'bitter_orange_juice', 'curcuma_aromatica', 'nobiru', 'creosote', 'barosma_betulina', 'citronella_oil', 'passiflora_edulis', 'raspberry_oil', 'mentha_viridis', 'zanthoxylum_piperitum_fruit_oil', 'cinnamomum_oliveri_leaf', 'clove_pink', 'armenian_muscat_grape_oil', 'grain', 'chamaecyparis_formosensis_root_oil', 'cumin_fruit_oil', 'hoary_basil_leaf_oil', 'compositae', 'eucalyptus_australianavar_oil', 'aconitum_napellus', 'sugarcane', 'persea_gratissima_peel', 'passiflora_edulis_juice', 'juniper_leaf_oil', 'calytrix_tetragona_oil', 'trametes_graveolens', 'thlaspi_arvense_oil', 'ptychotis_ajowan_seed_oil', 'wild_bergamot_oil', 'wood_tar', 'berry_juice', 'spanish_origanum_oil', 'saigon_cinnamon', 'juniperus_sabina', 'fagara_zanthoxyloides_oil', 'rose_hip', 'rosemary_oil', 'beechwood_tar', 'larix_americana', 'pinus_avium_fruit', 'datura_stramonium', 'heracleum_candicans_oil', 'carphephorus_corymbosus_leaf', 'rancid_coconut_oil', 'cinnamon_oil', 'artemisia_porrecta_oil', 'hedychium_spicatum', 'garlic_oil', 'ocimum_viride', 'vietnamese_black_tea', 'chempedak', 'american_sassafras_oil', 'wild_vanilla', 'thuja_standishii', 'graminaceae', 'oak_leaf', 'nutmeg_oil', 'bay', 'phebalium_dentatum_leaf', 'anise_seed', 'lindera_citriodora', 'apple_sauce', 'eryngium_poterium', 'vitis_labrusca_oil', 'valeriana_officinalis', 'california_laurel_oil', 'phebalium_dentatum', 'roasted_spanish_peanut', 'butter_oil', 'abies_canadensis', 'burley_tobacco_oil', 'artemisia_juncea', 'honeydew', 'kumazasa', 'borosma_pulchellum', 'marula', 'green_tea_oil', 'phallus_impudicus', 'onion_oil', 'carnation_oil', 'eucalyptus_citridora', 'boldo', 'wax_jambu', 'thuja_articulata_bark_oil', 'pinus_punulio', 'cinnamomum_kanahirain', 'brazil_peppermint_oil', 'split_pea', 'zanthoxylum_rhetsa_oil', 'chrysanthemum_japonicum', 'bitter_almond', 'jonquil_oil', 'asian_storax', 'mandarin_oil', 'thujopsis_dolabrata', 'highbush_blueberry', 'hatsutake', 'hogweed_oil', 'litsea_guatemalensis_oil', 'barosma_pulchella_oil', 'lingonberry_juice', 'doryphora_sassafras_leaf_oil', 'zanthoxylum_piperitum', 'rhizopus', 'baeckea_citriodora_oil', 'artemisia_ferganensis', 'calytrix_virgata', 'bachang', 'cabreuva', 'hybrid_passion_fruit_juice', 'acacia_farnesiana_oil', 'heracleum_villosum_oil', 'kaempferia_ethel_bulb_oil', 'schizandra_oil', 'cereal', 'parmesan', 'bergamot_peel_oil', 'phellodendron_amurense', 'artemisia_hausiliensis', 'beet_juice', 'leptospermum_citratum', 'algae', 'orthodon_asaroniferum_oil', 'roselle', 'piper_famechoni', 'myrtaceae_oil', 'backhousia_citriodora_oil', 'betel', 'cigarette', 'hinoki_oil', 'smoke', 'ligusticum_acutilobum', 'orthodon_methylisoeugenoliferum_oil', 'scallion', 'zucchini', 'japanese_ho_leaf_oil', 'auricula_oil', 'rotundifolia', 'lauraceae', 'bone_oil', 'red_algae', 'psilocaulon_absimile', 'garlic_mustard', 'senecio_kaempferi', 'agathosma_gnidioides_leaf_oil', 'bael', 'lemon_tree', 'labiatae', 'toasted_oat_groat', 'bisabol_myrrh', 'rangpur', 'magnolia_grandiflora', 'estragon', 'cherry_brandy', 'leptospermum_liversidgei', 'ormenis_mixta_oil', 'geraniaceae', 'manila_copal', 'kencur_oil', 'jerusalem_artichoke', 'shoro', 'waste_wort', 'wood_vinegar', 'oxystigma_buccholtzii_flower', 'spirea_ulmaria_oil', 'cupressus_macrocarpa_oil', 'citrus_fruit_blossom', 'nemuaron_humboldtii_oil', 'citron', 'carphephorus_paniculatus_leaf', 'stirlingia_latifolia', 'oak_tar_oil', 'loiseleuria_procumbens', 'lesquerella_seed', 'turpentine', 'ledum_palustre', 'chamaecyparis_lawsoniana', 'litsea_odorifera_oil', 'orange_flower_oil', 'storax', 'alcoholic_beverage', 'mate_leaf', 'agaricus', 'rosa_rugosa', 'eryngium_facidum', 'myrtus_communis', 'cymbopogon_citralis_oil', 'micromeria_abyssinica', 'beech', 'larch_tree', 'artemisia_verlo', 'callitris_rubusta', 'penang_benzoin', 'rice_husk', 'root', 'artemisia_dracunculus_oil', 'chrysanthemum_sincuse_flower', 'elsholtzia_ciliata', 'lippia_scaberrima', 'currant_leaf', 'wasabi', 'squash', 'jasmine_oil', 'backhousia_citriodora', 'caesalpinia_spinosa', 'rhus_typhia', 'ceriman', 'mindanaese_cinnamomum_oil', 'beech_tar_creosote', 'verbena_oil', 'picea_canadensis', 'kabosu_peel_oil', 'chamaecyparis_formosensis_oil', 'tunisian_rosemary', 'hernandia_peltata_oil', 'rhus_semialata', 'elsholtzia_ciliata_oil', 'oregano', 'fortunella_margarita', 'calyptranthes_parriculata', 'caucus', 'passiflora_mollissima', 'michelia', 'yellow_mombin', 'madagascar_cinnamon_leaf_oil', 'thymus_oil', 'celery_root', 'sassafras_root_oil', 'copaiba_balsam', 'boswellia_serrata_oil', 'magnolia_salicifolia_oil', 'alpinia_malaccensis_oil', 'honduras_balsam', 'seseli_sibiricum', 'japanese_hop', 'wild_grape', 'ginger_oil', 'rhododendron_fauriae_leaf', 'rhus_coriaria', 'rhus_glabra', 'mentha_longifolia_oil', 'mimosa_oil', 'aristolochia_clematitis', 'cubeb', 'silkworm_chrysalis', 'valerian_root_oil', 'oregano_oil', 'russian_star_anise', 'litsea_citrata', 'english_peppermint_oil', 'juniperus_chinensis_oil', 'rhodotorula_glutinis', 'rhodophyllus_icterus', 'ambrette', 'artemisia_frigida_oil', 'apricot_kernel', 'solanaceae', 'piper_chaba', 'blumea_eriantha_oil', 'nance', 'orris_root', 'dried_spinach', 'japanese_star_anise_oil', 'asarum_arifolium_root_oil', 'erica_arborea_oil', 'boronia_ledifolia_oil', 'polianthes_tuberosa_oil', 'quercus_olive', 'crimean_white_grape_oil', 'dacrydium_colensoi', 'xanthorrhoea_hostilis', 'mentha_verticillata', 'darwinia_grandiflora_oil', 'orthodon_tenuicaule_oil', 'pelargonium', 'cumin_oil', 'piper_lowong', 'pittosporum_flower', 'honduras_peru_balsam', 'orthodon_methylisoeugenoliferum', 'malabar_lemongrass_oil', 'eucalyptus_diversicolor_oil', 'alpinia_sessilis', 'california_lemon_oil', 'sumac', 'pickled_plum', 'bay_laurel_oil', 'gardenia_flower_oil', 'rose_flower_oil', 'spearmint_scotch_oil', 'liquidambar_orientalis_storax', 'thuja_plicata', 'bystropogon_mollis_leaf_oil', 'ceylon_citronella_oil', 'cassis_juice', 'bulgarian_tobacco', 'turkmenistan_sunguli_oil', 'larix', 'eucalyptus_radiata_oil', 'ribes', 'celery_oil', 'lilac_flower_oil', 'salvia_spinosa', 'litsea_odorifera_leaf_oil', 'levisticum_acutilobum', 'gelatin', 'silk_fibrooin', 'agarwood', 'ambergris_oil', 'tequila', 'achillea_millefolium', 'artemisia_tridentata', 'boletus_scaber', 'wallflower'))"
      ]
     },
     "execution_count": 17,
     "metadata": {},
     "output_type": "execute_result"
    }
   ],
   "source": [
    "G.nodes"
   ]
  },
  {
   "cell_type": "code",
   "execution_count": 23,
   "metadata": {},
   "outputs": [],
   "source": [
    "def distance(node1, node2,G):\n",
    "    shortest_path = nx.shortest_path(G, source=node1, target=node2)\n",
    "\n",
    "    # Calculate the distance (number of edges in the path)\n",
    "    distance = len(shortest_path) - 1  # Subtract 1 to get the edge count\n",
    "    return distance"
   ]
  },
  {
   "cell_type": "code",
   "execution_count": 19,
   "metadata": {},
   "outputs": [
    {
     "data": {
      "text/plain": [
       "2"
      ]
     },
     "execution_count": 19,
     "metadata": {},
     "output_type": "execute_result"
    }
   ],
   "source": [
    "distance('rose_wine','nira')"
   ]
  },
  {
   "cell_type": "code",
   "execution_count": 31,
   "metadata": {},
   "outputs": [],
   "source": [
    "def filter_graph(G,weight_threshold):\n",
    "    # Create a subgraph based on the weight condition\n",
    "    filtered_graph = G.copy()  # Create a copy to preserve the original graph\n",
    "\n",
    "    # Iterate over the edges and remove those with weights below the threshold\n",
    "    for u, v, d in G.edges(data=True):\n",
    "        if d['weight'] < weight_threshold:\n",
    "            filtered_graph.remove_edge(u, v)\n",
    "\n",
    "    # If you want to remove isolated nodes after filtering\n",
    "    filtered_graph.remove_nodes_from(list(nx.isolates(filtered_graph)))\n",
    "    return filtered_graph"
   ]
  },
  {
   "cell_type": "code",
   "execution_count": 35,
   "metadata": {},
   "outputs": [
    {
     "name": "stdout",
     "output_type": "stream",
     "text": [
      "349\n"
     ]
    }
   ],
   "source": [
    "G25 = filter_graph(G,25)\n",
    "G10 = filter_graph(G,10)\n",
    "print(len(G25.nodes))\n"
   ]
  },
  {
   "cell_type": "code",
   "execution_count": null,
   "metadata": {},
   "outputs": [],
   "source": [
    "print(distance('rose_wine','nira',G))\n",
    "print(distance('rose_wine','nira',G10))"
   ]
  },
  {
   "cell_type": "code",
   "execution_count": null,
   "metadata": {},
   "outputs": [],
   "source": []
  }
 ],
 "metadata": {
  "kernelspec": {
   "display_name": "Python 3",
   "language": "python",
   "name": "python3"
  },
  "language_info": {
   "codemirror_mode": {
    "name": "ipython",
    "version": 3
   },
   "file_extension": ".py",
   "mimetype": "text/x-python",
   "name": "python",
   "nbconvert_exporter": "python",
   "pygments_lexer": "ipython3",
   "version": "3.11.5"
  }
 },
 "nbformat": 4,
 "nbformat_minor": 2
}
